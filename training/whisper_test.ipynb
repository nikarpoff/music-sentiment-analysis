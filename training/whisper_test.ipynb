{
 "cells": [
  {
   "cell_type": "markdown",
   "id": "2edccd61",
   "metadata": {},
   "source": [
    "### Проверка работоспособности Whisper на исходных данных\n",
    "Цель - выбрать пару песен и получить их перевод с помощью Whisper, сравнить с настоящим текстом."
   ]
  },
  {
   "cell_type": "code",
   "execution_count": 1,
   "id": "a5db9760",
   "metadata": {},
   "outputs": [],
   "source": [
    "import os\n",
    "import torch\n",
    "import librosa\n",
    "from transformers import WhisperProcessor, WhisperForConditionalGeneration\n",
    "\n",
    "class TextExtractor(torch.nn.Module):\n",
    "    def __init__(self, device='cuda'):\n",
    "        super().__init__()\n",
    "        self.device = device\n",
    "\n",
    "        # Model params\n",
    "        self.processor = WhisperProcessor.from_pretrained(\"openai/whisper-small\")\n",
    "        self.model = WhisperForConditionalGeneration.from_pretrained(\"openai/whisper-small\")\n",
    "\n",
    "        for param in self.model.parameters():\n",
    "            param.requires_grad = False\n",
    "\n",
    "    def forward(self, x) -> torch.Tensor:\n",
    "        p = self.processor(x, sampling_rate=16000, return_tensors=\"pt\")\n",
    "        input_features = p.input_features.to(self.device)\n",
    "        generated_ids = self.model.generate(input_features)\n",
    "        transcription = self.processor.batch_decode(generated_ids, skip_special_tokens=True)[0]\n",
    "        return transcription"
   ]
  },
  {
   "cell_type": "markdown",
   "id": "fcf808f6",
   "metadata": {},
   "source": [
    "Код для загрузки аудио: загрузка с помощью librosa с последующим приведением двухканальной записи в одноканальную."
   ]
  },
  {
   "cell_type": "code",
   "execution_count": 2,
   "id": "75ed2ce8",
   "metadata": {},
   "outputs": [],
   "source": [
    "def load_audio(audio_filename, dataset_path=\"V:/dataset/music\"):\n",
    "    waveform, sr = librosa.load(os.path.join(dataset_path, audio_filename), sr=16000)\n",
    "\n",
    "    if waveform.ndim > 1:\n",
    "        waveform = waveform.mean(axis=1)  # Convert to mono if stereo\n",
    "\n",
    "    return waveform, sr"
   ]
  },
  {
   "cell_type": "markdown",
   "id": "f176ef54",
   "metadata": {},
   "source": [
    "Выполняем скользящий инференс по 30 секунд аудио:"
   ]
  },
  {
   "cell_type": "code",
   "execution_count": 7,
   "id": "1f58ca9c",
   "metadata": {},
   "outputs": [],
   "source": [
    "text_extractor = TextExtractor().to('cuda')\n",
    "\n",
    "def extract_text_from_audio(audio_filename, dataset_path=\"V:/dataset/music\"):\n",
    "    waveform, sr = load_audio(audio_filename, dataset_path=dataset_path)\n",
    "    chunk_size = 30 * sr\n",
    "\n",
    "    for i in range(0, len(waveform), chunk_size):\n",
    "        chunk = waveform[i:i+chunk_size]\n",
    "\n",
    "        if len(chunk) < chunk_size // 2:\n",
    "            continue  # skip too short\n",
    "\n",
    "        print(text_extractor(chunk))"
   ]
  },
  {
   "cell_type": "markdown",
   "id": "a81d3f15",
   "metadata": {},
   "source": [
    "Получаем корректный текст песни на русском с небольшими неточностями (Крест -> Грест, ко груди -> как груди):"
   ]
  },
  {
   "cell_type": "code",
   "execution_count": 8,
   "id": "558c47e4",
   "metadata": {},
   "outputs": [
    {
     "name": "stdout",
     "output_type": "stream",
     "text": [
      " Music\n",
      " В дом нежданно ворвалась беда Сына мать как груди прижимает Забирают его навсегда\n",
      " Что же ты, сын, натворил? Зачем ты себя погубил? Воплем безумным в груди, Станет сердце несчастное. Не увидишь ли степи широкие? Больше взору они не нужны. Чем прогневал ты власти жестокие?\n",
      " Ты, Алеша, сынок, расскажи, Чем прогневал ты власти жестокие? Ты, Алеша, сынок, расскажи, Не читал я речей недозволенных, Не срывался с насиженных мест, Заступился я за обездоленных, Чем и выбрал свой тягостный крест,\n",
      " Стуку, стук, колеса стук Поровозный кричит гудок Пласть прощальной зарежет слух\n",
      " Плач прощальный печальный звук Вот и скрылся для линьба лоток\n",
      " Спасибо.\n"
     ]
    }
   ],
   "source": [
    "extract_text_from_audio(\"54/144654.mp3\")"
   ]
  },
  {
   "cell_type": "markdown",
   "id": "a223d104",
   "metadata": {},
   "source": [
    "Аналогичный результат для иностранного языка"
   ]
  },
  {
   "cell_type": "code",
   "execution_count": 9,
   "id": "13181e8b",
   "metadata": {},
   "outputs": [
    {
     "name": "stdout",
     "output_type": "stream",
     "text": [
      " Pourquoi se sourire quand tu m'aperçois ? Qu'est-ce qui te fait rire ? Pourquoi se regarde là ?\n",
      " Tu sembles déçu par ce que tu vois mais qu'attendais-tu que vous l'études moi ?\n",
      " Oh mon miroir, dis-moi si je le prie, oh\n",
      " Je vous l'aime et je vous oublie Dans ces trôles de petiria\n",
      " du vrai et du beau, impossible chimère, mes rêves sont à l'eau.\n",
      " Oui, qu'il reste un espoir Comme moi ton avis Je voudrais tant savoir Oh mon miroir Dis-moi si je le plus fous Je voudrais vivre\n",
      " Ma vie de venir quelqu'un de bien Je voudrais mais je m'oublier Dans ces trônes de petits liens\n",
      " Yn ymwneud yma, yw'r unrhyw yw'r unrhyw yw'r unrhyw yw'r unrhyw yw'r unrhyw yw'r unrhyw yw'r unrhyw yw'r unrhyw yw'r unrhyw yw'r unrhyw yw'r unrhyw yw'r unrhyw yw'r unrhyw yw'r unrhyw yw'r unrhyw yw'r unrhyw yw'r unrhyw yw'r unrhyw yw'r unrhyw yw'r unrhyw yw'r unrhyw yw'r unrhyw yw'r unrhyw yw'r unrhyw yw'r unrhyw yw'r unrhyw yw'r unrhyw yw'r unrhyw yw'r unrhyw yw'r unrhyw yw'r unrhyw yw'r unrhyw yw'r unrhyw yw'r unrhyw yw'r unrhyw yw'r unrhyw yw'r unrhyw yw'r unrhyw yw'r unrhyw yw'r unrhyw yw'r unrhyw yw'r unrhyw yw'r unrhyw yw'r unrhyw yw'r unrhyw yw'r unrhyw yw'r unrhyw yw'r unrhyw yw'r unrhyw yw'r unrhyw yw'r unrhyw yw'r unrhyw yw'r unrhyw yw'r unrhyw yw\n",
      " Oh mon miroir, dis-moi si je l'ai plus beau Je voulais vivre ma vie de venir quelqu'un est bien\n",
      " Je ne pourrai pas, je ne pourrai pas dans ces trônes de pentillard Je ne pourrai pas, je ne pourrai pas de venir t'accalier\n",
      " Je vous aime et je m'oublie Dans cette roi de peur Tu viens\n"
     ]
    }
   ],
   "source": [
    "extract_text_from_audio(\"70/25270.mp3\")"
   ]
  },
  {
   "cell_type": "code",
   "execution_count": null,
   "id": "ea3d5b2a",
   "metadata": {},
   "outputs": [],
   "source": []
  }
 ],
 "metadata": {
  "kernelspec": {
   "display_name": "torchenv",
   "language": "python",
   "name": "python3"
  },
  "language_info": {
   "codemirror_mode": {
    "name": "ipython",
    "version": 3
   },
   "file_extension": ".py",
   "mimetype": "text/x-python",
   "name": "python",
   "nbconvert_exporter": "python",
   "pygments_lexer": "ipython3",
   "version": "3.10.16"
  }
 },
 "nbformat": 4,
 "nbformat_minor": 5
}
